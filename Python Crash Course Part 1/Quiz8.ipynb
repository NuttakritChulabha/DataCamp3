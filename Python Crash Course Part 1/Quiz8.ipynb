{
 "metadata": {
  "language_info": {
   "codemirror_mode": {
    "name": "ipython",
    "version": 3
   },
   "file_extension": ".py",
   "mimetype": "text/x-python",
   "name": "python",
   "nbconvert_exporter": "python",
   "pygments_lexer": "ipython3",
   "version": "3.8.3-final"
  },
  "orig_nbformat": 2,
  "kernelspec": {
   "name": "python3",
   "display_name": "Python 3"
  }
 },
 "nbformat": 4,
 "nbformat_minor": 2,
 "cells": [
  {
   "cell_type": "code",
   "execution_count": 2,
   "metadata": {
    "tags": []
   },
   "outputs": [
    {
     "output_type": "stream",
     "name": "stdout",
     "text": "[2, 9, 1, 81, 32]\n"
    }
   ],
   "source": [
    "A = [1,2,3,4,5]\n",
    "B = [2,3,1,3,2]\n",
    "Ans1 = list(map(lambda x,y: y**x ,A,B))\n",
    "print(Ans1)"
   ]
  },
  {
   "cell_type": "code",
   "execution_count": 3,
   "metadata": {
    "tags": []
   },
   "outputs": [
    {
     "output_type": "stream",
     "name": "stdout",
     "text": "[('janjira', 1, 30), ('kittipong', 2, 45), ('Watcharapoon', 3, 39), ('treerapoon', 4, 35)]\n"
    }
   ],
   "source": [
    "name = [\"janjira\",\"kittipong\",\"Watcharapoon\",\"treerapoon\"]\n",
    "num = [1,2,3,4]\n",
    "score = [30,45,39,35]\n",
    "\n",
    "Data = list(zip(name,num,score))\n",
    "print(Data)\n"
   ]
  },
  {
   "cell_type": "code",
   "execution_count": null,
   "metadata": {},
   "outputs": [],
   "source": []
  }
 ]
}