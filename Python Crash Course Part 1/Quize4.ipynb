{
 "metadata": {
  "language_info": {
   "codemirror_mode": {
    "name": "ipython",
    "version": 3
   },
   "file_extension": ".py",
   "mimetype": "text/x-python",
   "name": "python",
   "nbconvert_exporter": "python",
   "pygments_lexer": "ipython3",
   "version": "3.8.3-final"
  },
  "orig_nbformat": 2,
  "kernelspec": {
   "name": "python_defaultSpec_1599369231034",
   "display_name": "Python 3.8.3 64-bit ('base': conda)"
  }
 },
 "nbformat": 4,
 "nbformat_minor": 2,
 "cells": [
  {
   "cell_type": "code",
   "execution_count": 16,
   "metadata": {
    "tags": []
   },
   "outputs": [
    {
     "output_type": "stream",
     "name": "stdout",
     "text": "6\n"
    }
   ],
   "source": [
    "a = [[[1,3],[3,4]],[5,[5,6],[7,8]]]\n",
    "print(a[1][1][1]) #คำตอบคือ 6"
   ]
  },
  {
   "cell_type": "code",
   "execution_count": 17,
   "metadata": {
    "tags": []
   },
   "outputs": [
    {
     "output_type": "stream",
     "name": "stdout",
     "text": "[['sunisa', 'jaidee', 28], ['meedee', 'teejai', 25], ['jairak', 'kanrand', 20], ['kid', 'maiaoog', 18]]\n"
    }
   ],
   "source": [
    "Peopel1 = [\"sunisa\",\"jaidee\",28]\n",
    "Peopel2 = [\"meedee\",\"teejai\",25]\n",
    "Peopel3 = [\"jairak\",\"kanrand\",20]\n",
    "Peopel4 = [\"kid\",\"maiaoog\",18]\n",
    "AllPeopel =[Peopel1,Peopel2,Peopel3,Peopel4]\n",
    "print(AllPeopel)"
   ]
  },
  {
   "cell_type": "code",
   "execution_count": 18,
   "metadata": {
    "tags": []
   },
   "outputs": [
    {
     "output_type": "stream",
     "name": "stdout",
     "text": "[['sunisa', 'jaidee', 28], ['meedee', 'teejai', 25], ['jairak', 'kanrand', 20]]\n"
    }
   ],
   "source": [
    "del AllPeopel[3]\n",
    "print(AllPeopel)"
   ]
  },
  {
   "cell_type": "code",
   "execution_count": 19,
   "metadata": {
    "tags": []
   },
   "outputs": [
    {
     "output_type": "stream",
     "name": "stdout",
     "text": "[['nanee', 'tongsai', 29], ['sunisa', 'jaidee', 28], ['meedee', 'teejai', 25], ['jairak', 'kanrand', 20]]\n"
    }
   ],
   "source": [
    "Peopel5 = [\"nanee\",\"tongsai\",29]\n",
    "AllPeopel.insert(0,Peopel5)\n",
    "print(AllPeopel)"
   ]
  },
  {
   "cell_type": "code",
   "execution_count": 24,
   "metadata": {
    "tags": []
   },
   "outputs": [
    {
     "output_type": "stream",
     "name": "stdout",
     "text": "[['nanee', 'tongsai', 29], ['sunisa', 'jaidee', 28], ['meedee', 'teejai', 35], ['jairak', 'kanrand', 20]]\n"
    }
   ],
   "source": [
    "Peopel2[2] = 25+10\n",
    "print(AllPeopel)\n"
   ]
  },
  {
   "cell_type": "code",
   "execution_count": null,
   "metadata": {},
   "outputs": [],
   "source": []
  }
 ]
}