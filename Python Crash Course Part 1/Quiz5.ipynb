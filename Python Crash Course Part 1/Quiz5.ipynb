{
 "metadata": {
  "language_info": {
   "codemirror_mode": {
    "name": "ipython",
    "version": 3
   },
   "file_extension": ".py",
   "mimetype": "text/x-python",
   "name": "python",
   "nbconvert_exporter": "python",
   "pygments_lexer": "ipython3",
   "version": "3.8.3-final"
  },
  "orig_nbformat": 2,
  "kernelspec": {
   "name": "python3",
   "display_name": "Python 3"
  }
 },
 "nbformat": 4,
 "nbformat_minor": 2,
 "cells": [
  {
   "cell_type": "code",
   "execution_count": 15,
   "metadata": {
    "tags": []
   },
   "outputs": [
    {
     "output_type": "stream",
     "name": "stdout",
     "text": "[1, 8, 27, 64, 125, 216, 343, 512, 729, 1000]\n[1, 8, 27, 64, 125, 216, 343, 512, 729, 1000]\n"
    }
   ],
   "source": [
    "lst = [1,2,3,4,5,6,7,8,9,10]\n",
    "\n",
    "def Ans1(a):\n",
    " return a**3\n",
    "\n",
    "print(list(map(Ans1,lst)))\n",
    "\n",
    "Ans2 = map(lambda a:a**3 ,lst) \n",
    "print(list(Ans2))\n"
   ]
  },
  {
   "cell_type": "code",
   "execution_count": 26,
   "metadata": {
    "tags": []
   },
   "outputs": [
    {
     "output_type": "stream",
     "name": "stdout",
     "text": "[1, 3, 5, 7, 9]\n[1, 3, 5, 7, 9]\n"
    }
   ],
   "source": [
    "\n",
    "lst = [1,2,3,4,5,6,7,8,9,10]\n",
    "\n",
    "def Ans3(a):\n",
    " return (a**2)%2 != 0\n",
    "\n",
    "print(list(filter(Ans3,lst)))\n",
    "\n",
    "\n",
    "Ans4 = filter(lambda a: (a**2)%2 !=0 ,lst) \n",
    "print(list(Ans4))"
   ]
  },
  {
   "cell_type": "code",
   "execution_count": null,
   "metadata": {},
   "outputs": [],
   "source": []
  }
 ]
}