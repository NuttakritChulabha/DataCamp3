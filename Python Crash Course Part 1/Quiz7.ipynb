{
 "metadata": {
  "language_info": {
   "codemirror_mode": {
    "name": "ipython",
    "version": 3
   },
   "file_extension": ".py",
   "mimetype": "text/x-python",
   "name": "python",
   "nbconvert_exporter": "python",
   "pygments_lexer": "ipython3",
   "version": "3.8.3-final"
  },
  "orig_nbformat": 2,
  "kernelspec": {
   "name": "python3",
   "display_name": "Python 3"
  }
 },
 "nbformat": 4,
 "nbformat_minor": 2,
 "cells": [
  {
   "cell_type": "code",
   "execution_count": 2,
   "metadata": {
    "tags": []
   },
   "outputs": [
    {
     "output_type": "stream",
     "name": "stdout",
     "text": "เกรด B\n"
    }
   ],
   "source": [
    "i = 80\n",
    "if(i>80):\n",
    " print(\"เกรด A\")\n",
    "elif(i>70):\n",
    " print(\"เกรด B\")\n",
    "elif(i>60):\n",
    " print(\"เกรด C\")\n",
    "elif(i>50):\n",
    " print(\"เกรด D\")\n",
    "else:\n",
    " print(\"เกรด F\")"
   ]
  },
  {
   "cell_type": "code",
   "execution_count": null,
   "metadata": {},
   "outputs": [],
   "source": []
  }
 ]
}