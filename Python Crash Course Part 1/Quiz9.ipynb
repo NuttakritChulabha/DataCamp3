{
 "metadata": {
  "language_info": {
   "codemirror_mode": {
    "name": "ipython",
    "version": 3
   },
   "file_extension": ".py",
   "mimetype": "text/x-python",
   "name": "python",
   "nbconvert_exporter": "python",
   "pygments_lexer": "ipython3",
   "version": "3.8.3-final"
  },
  "orig_nbformat": 2,
  "kernelspec": {
   "name": "python3",
   "display_name": "Python 3"
  }
 },
 "nbformat": 4,
 "nbformat_minor": 2,
 "cells": [
  {
   "cell_type": "code",
   "execution_count": 1,
   "metadata": {
    "tags": []
   },
   "outputs": [
    {
     "output_type": "stream",
     "name": "stdout",
     "text": "244140625\n"
    }
   ],
   "source": [
    "from functools import reduce\n",
    "lst = [5,2,1,3,2]\n",
    "Ans1 = reduce((lambda x,y:x**y),lst)\n",
    "print(Ans1)"
   ]
  },
  {
   "cell_type": "code",
   "execution_count": 2,
   "metadata": {
    "tags": []
   },
   "outputs": [
    {
     "output_type": "stream",
     "name": "stdout",
     "text": "3628800\n"
    }
   ],
   "source": [
    "from functools import reduce\n",
    "lst = [1,2,3,4,5,6,7,8,9,10]\n",
    "Ans2 = reduce((lambda x,y:x*y),lst)\n",
    "print(Ans2)"
   ]
  },
  {
   "cell_type": "code",
   "execution_count": null,
   "metadata": {},
   "outputs": [],
   "source": []
  }
 ]
}