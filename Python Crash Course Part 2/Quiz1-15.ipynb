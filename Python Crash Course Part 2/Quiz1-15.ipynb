{
 "metadata": {
  "language_info": {
   "codemirror_mode": {
    "name": "ipython",
    "version": 3
   },
   "file_extension": ".py",
   "mimetype": "text/x-python",
   "name": "python",
   "nbconvert_exporter": "python",
   "pygments_lexer": "ipython3",
   "version": "3.8.3-final"
  },
  "orig_nbformat": 2,
  "kernelspec": {
   "name": "python3",
   "display_name": "Python 3"
  }
 },
 "nbformat": 4,
 "nbformat_minor": 2,
 "cells": [
  {
   "cell_type": "code",
   "execution_count": 1,
   "metadata": {
    "tags": []
   },
   "outputs": [
    {
     "output_type": "stream",
     "name": "stdout",
     "text": "เลขคู่\n"
    }
   ],
   "source": [
    "#Quiz\n",
    "num =int(input(\"กรอกค่าที่ต้องการ :\"))\n",
    "\n",
    "if(num%2 == 0):\n",
    " print(\"เลขคู่\")\n",
    "elif(num%1 == 0):\n",
    " print(\"เลขคี่\")\n",
    "elif(num == 0):\n",
    " print(\"เลขศูนย์\")"
   ]
  },
  {
   "cell_type": "code",
   "execution_count": 3,
   "metadata": {
    "tags": []
   },
   "outputs": [
    {
     "output_type": "stream",
     "name": "stdout",
     "text": "2.5\n"
    }
   ],
   "source": [
    "#Quiz 2\n",
    "num1 =float(input(\"กรอกตัวตั้ง:\"))\n",
    "num2 =float(input(\"กรอกตัวหาร:\"))\n",
    "\n",
    "while(num2 == 0):\n",
    " num2 =float(input(\"กรอกตัวหารอีกครั้งที่ไม่ใช่ 0:\"))\n",
    " \n",
    "Ans2 = num1/num2\n",
    "print(Ans2)"
   ]
  },
  {
   "cell_type": "code",
   "execution_count": 6,
   "metadata": {
    "tags": []
   },
   "outputs": [
    {
     "output_type": "stream",
     "name": "stdout",
     "text": "5.0\n6.0\n3.0\n0.0\nAvg= 4.666666666666667\n"
    }
   ],
   "source": [
    "#Quiz 3\n",
    "num3 =float(input(\"กรอกตัวเลขที่ต้องหาค่าเฉลี่ย กรอกเลข 0 เมื่อต้องการหยุด:\"))\n",
    "print(num3) \n",
    "count = 0\n",
    "num4 = 0\n",
    "\n",
    "while(num3 != 0):\n",
    " num4 += num3\n",
    " num3 =float(input(\"กรอกตัวเลขที่ต้องหาค่าเฉลี่ย กรอกเลข 0 เมื่อต้องการหยุด:\"))\n",
    " count = count + 1\n",
    " print(num3) \n",
    "Ans2 = num4/count\n",
    "print(\"Avg=\",Ans2) "
   ]
  },
  {
   "cell_type": "code",
   "execution_count": 10,
   "metadata": {
    "tags": []
   },
   "outputs": [
    {
     "output_type": "stream",
     "name": "stdout",
     "text": "input : 5\nหาร 7 ไม่ลงตัว\n"
    }
   ],
   "source": [
    "#Quiz 4\n",
    "num5 =int(input(\"กรอกตัวเลข:\"))\n",
    "print(\"input :\",num5)\n",
    "if(num5%7 == 0):\n",
    " print(\"หาร 7 ลงตัว\")\n",
    "else:\n",
    " print(\"หาร 7 ไม่ลงตัว\")"
   ]
  },
  {
   "cell_type": "code",
   "execution_count": 11,
   "metadata": {
    "tags": []
   },
   "outputs": [
    {
     "output_type": "stream",
     "name": "stdout",
     "text": "4 3 5\nสามารถสร้าง 3 เหลี่ยมมุมฉากได้\n"
    }
   ],
   "source": [
    "#Quiz 5\n",
    "num6 =int(input(\"กรอกค่าเส้นที่ 1:\"))\n",
    "num7 =int(input(\"กรอกค่าเส้นที่ 2:\"))\n",
    "num8 =int(input(\"กรอกค่าเส้นที่ 3:\"))\n",
    "c= max(num6,num7,num8)\n",
    "b= min(num6,num7,num8)\n",
    "a= num6 + num7 + num8 -(c+b)\n",
    "print(a,b,c)\n",
    "\n",
    "if(c**2 == (a**2)+(b**2)):\n",
    " print(\"สามารถสร้าง 3 เหลี่ยมมุมฉากได้\")\n",
    "else:\n",
    " print(\"ไม่สามารถสร้าง 3 เหลี่ยมมุมฉากได้\")"
   ]
  },
  {
   "cell_type": "code",
   "execution_count": 14,
   "metadata": {
    "tags": []
   },
   "outputs": [
    {
     "output_type": "stream",
     "name": "stdout",
     "text": "Max=5,Min=5,Mid=5\nสามารถสร้าง 3 เหลี่ยมมุมแหลมได้\n"
    }
   ],
   "source": [
    "#Quiz 6\n",
    "num9 =int(input(\"กรอกค่าเส้นที่ 1:\"))\n",
    "num10 =int(input(\"กรอกค่าเส้นที่ 2:\"))\n",
    "num11 =int(input(\"กรอกค่าเส้นที่ 3:\"))\n",
    "c= max(num9,num10,num11)\n",
    "b= min(num9,num10,num11)\n",
    "a= num9 + num10 + num11 -(c+b)\n",
    "print(\"Max={},Min={},Mid={}\".format(c,b,a))\n",
    "\n",
    "if((a**2)==0 or (b**2)==0 or (c**2)==0):\n",
    " print(\"ไม่สามารถสร้าง 3 เหลี่ยมมุมฉากได้\")\n",
    "elif((a**2)+(b**2) == c**2 ):\n",
    " print(\"สามารถสร้าง 3 เหลี่ยมมุมฉากได้\")\n",
    "elif((a**2)+(b**2) < c**2):\n",
    " print(\"สามารถสร้าง 3 เหลี่ยมมุมป้านได้\")\n",
    "elif((a**2)+(b**2) > c**2):\n",
    " print(\"สามารถสร้าง 3 เหลี่ยมมุมแหลมได้\") \n"
   ]
  },
  {
   "cell_type": "code",
   "execution_count": 110,
   "metadata": {
    "tags": []
   },
   "outputs": [
    {
     "output_type": "stream",
     "name": "stdout",
     "text": "ครั้งที่ 1 => ค่าอาหาร: 4800 , รวมค่าอาหาร: 4800 \nครั้งที่ 2 => ค่าอาหาร: 1300 , รวมค่าอาหาร: 6100 \nครั้งที่ 3 => ค่าอาหาร: 2000 , รวมค่าอาหาร: 8100 \nค่าอาหาร: 8100 ,ค่าอาหารหลังหักส่วนลด 15 % ต้องจ่าย: 6885.0 บาท  \n"
    }
   ],
   "source": [
    "#Quiz 7\n",
    "num12 = 0\n",
    "num13 = 0\n",
    "\n",
    "for i in range(3):\n",
    " num12 =int(input(\"กรอกค่าอาหาร:\"))\n",
    "\n",
    " while(num12<1000 or num12>5000):\n",
    "  print(\"กรุณากรอกค่าอาหารอีกครั้งในช่วง 1000-5000 : ครั้งนี้คุณกรอก {}\".format(num12))\n",
    "  num12 = 0\n",
    "  num12 =int(input(\"กรุณากรอกค่าอาหารอีกครั้งในช่วง 1000-5000 :\"))\n",
    "  \n",
    " if (num12>1000 or num12<5000):\n",
    "   num13 = num12+num13\n",
    "   print(\"ครั้งที่ {} => ค่าอาหาร: {} , รวมค่าอาหาร: {} \".format(i+1,num12,num13))\n",
    "\n",
    "if(num13 > 6000 and num13 < 12000 ):\n",
    " print(\"ค่าอาหาร: {} ,ค่าอาหารหลังหักส่วนลด 15 % ต้องจ่าย: {} บาท  \".format(num13,(num13-(num13*0.15))))\n",
    "elif(num13>12000):\n",
    "  print(\"ค่าอาหาร: {} ,ค่าอาหารหลังหักส่วนลด 25 % ต้องจ่าย: {} บาท  \".format(num13,(num13-(num13*0.25))))\n",
    "else:\n",
    "  print(\"ค่าอาหารที่ต้องจ่ายรวม: {}\".format(num13)) \n"
   ]
  },
  {
   "cell_type": "code",
   "execution_count": 128,
   "metadata": {
    "tags": []
   },
   "outputs": [
    {
     "output_type": "stream",
     "name": "stdout",
     "text": "กรุณากรอกค่าอาหารอีกครั้งในช่วง 1000-5000 : ครั้งนี้คุณกรอก 6000\nกรุณากรอกค่าอาหารอีกครั้งในช่วง 1000-5000 : ครั้งนี้คุณกรอก 900\nครั้งที่ 1 => ค่าอาหาร: 1800 , รวมค่าอาหาร: 1800 \nครั้งที่ 2 => ค่าอาหาร: 3990 , รวมค่าอาหาร: 5790 \nครั้งที่ 3 => ค่าอาหาร: 1800 , รวมค่าอาหาร: 7590 \nครั้งที่ 4 => ค่าอาหาร: 1500 , รวมค่าอาหาร: 9090 \nรวมค่าอาหาร 3 ครั้ง:7590 ส่งผลให้=>ค่าอาหารครั้งที่ 4 หักส่วนลด 15 % ต้องจ่าย: 1275.0 บาท \n"
    }
   ],
   "source": [
    "#Quiz 8\n",
    "num14 = 0\n",
    "num15 = 0\n",
    "\n",
    "for i in range(4):\n",
    " num14 =int(input(\"กรอกค่าอาหาร:\"))\n",
    "\n",
    " while(num14<1000 or num14>5000):\n",
    "  print(\"กรุณากรอกค่าอาหารอีกครั้งในช่วง 1000-5000 : ครั้งนี้คุณกรอก {}\".format(num14))\n",
    "  num14 = 0\n",
    "  num14 =int(input(\"กรุณากรอกค่าอาหารอีกครั้งในช่วง 1000-5000 :\"))\n",
    "\n",
    " if(i==3):\n",
    "   num16 = num15\n",
    "\n",
    " if (num14>1000 or num14<5000):\n",
    "   num15 = num14+num15\n",
    "   print(\"ครั้งที่ {} => ค่าอาหาร: {} , รวมค่าอาหาร: {} \".format(i+1,num14,num15))\n",
    "   \n",
    "\n",
    "if(num16 > 6000 and num16 < 12000 ):\n",
    " print(\"รวมค่าอาหาร 3 ครั้ง:{} ส่งผลให้=>ค่าอาหารครั้งที่ 4 หักส่วนลด 15 % ต้องจ่าย: {} บาท \".format(num16,num14-(num14*0.15)))\n",
    "elif(num16 >12000):\n",
    " print(\"รวมค่าอาหาร 3 ครั้ง:{} ส่งผลให้=>ค่าอาหารครั้งที่ 4 หักส่วนลด 25 % ต้องจ่าย: {} บาท \".format(num16,num14-(num14*0.25)))\n",
    "else:\n",
    " print(\"รวมค่าอาหาร 3 ครั้ง:{} ส่งผลให้ไม่ได้รับส่วนลด=>ค่าอาหารครั้งที่ 4 ต้องจ่าย: {} บาท\".format(num16,num14)) "
   ]
  },
  {
   "cell_type": "code",
   "execution_count": 136,
   "metadata": {
    "tags": []
   },
   "outputs": [
    {
     "output_type": "stream",
     "name": "stdout",
     "text": "กรุณากรอกค่าอาหารอีกครั้งในช่วง 1000-5000 : ครั้งนี้คุณกรอก 30\nกรุณากรอกค่าอาหารอีกครั้งในช่วง 1000-5000 : ครั้งนี้คุณกรอก 90000\nครั้งที่ 1 => ค่าอาหาร: 4500 , รวมค่าอาหาร: 4500 \nครั้งที่ 2 => ค่าอาหาร: 3900 , รวมค่าอาหาร: 8400 \nครั้งที่ 3 => ค่าอาหาร: 1875 , รวมค่าอาหาร: 10275 \nครั้งที่ 4 => ค่าอาหาร: 3500 , รวมค่าอาหาร: 13775 \nรวมค่าอาหาร 3 ครั้ง:10275 ส่งผลให้=>ค่าอาหารครั้งที่ 4 หักส่วนลด 30 % ต้องจ่าย: 2450.0 บาท \n"
    }
   ],
   "source": [
    "#Quiz 9 TT ทำให้ต้องใส่ค่าใหม่ตั้งแต่ข้อ 7 แล้ว\n",
    "num17 = 0\n",
    "num18 = 0\n",
    "\n",
    "for i in range(4):\n",
    " num17 =int(input(\"กรอกค่าอาหาร:\"))\n",
    "\n",
    " while(num17<1000 or num17>5000):\n",
    "  print(\"กรุณากรอกค่าอาหารอีกครั้งในช่วง 1000-5000 : ครั้งนี้คุณกรอก {}\".format(num17))\n",
    "  num17 = 0\n",
    "  num17 =int(input(\"กรุณากรอกค่าอาหารอีกครั้งในช่วง 1000-5000 :\"))\n",
    "\n",
    " if(i==3):\n",
    "   num19 = num18\n",
    "   \n",
    " if (num14>1000 or num14<5000):\n",
    "   num18 = num17+num18\n",
    "   print(\"ครั้งที่ {} => ค่าอาหาร: {} , รวมค่าอาหาร: {} \".format(i+1,num17,num18))\n",
    "   \n",
    "\n",
    "if(num19 > 4000 and num19 < 9000 ):\n",
    " print(\"รวมค่าอาหาร 3 ครั้ง:{} ส่งผลให้=>ค่าอาหารครั้งที่ 4 หักส่วนลด 25 % ต้องจ่าย: {} บาท \".format(num19,num17-(num17*0.25)))\n",
    "elif(num19 > 9000):\n",
    " print(\"รวมค่าอาหาร 3 ครั้ง:{} ส่งผลให้=>ค่าอาหารครั้งที่ 4 หักส่วนลด 30 % ต้องจ่าย: {} บาท \".format(num19,num17-(num17*0.30)))\n",
    "else:\n",
    " print(\"รวมค่าอาหาร 3 ครั้ง:{} ส่งผลให้ไม่ได้รับส่วนลด=>ค่าอาหารครั้งที่ 4 ต้องจ่าย: {} บาท\".format(num19,num17)) "
   ]
  },
  {
   "cell_type": "code",
   "execution_count": 150,
   "metadata": {
    "tags": []
   },
   "outputs": [
    {
     "output_type": "stream",
     "name": "stdout",
     "text": "มีบัตรเครดิตหรือไม่=> True\nกรุณากรอกค่าอาหารอีกครั้งในช่วง 1000-5000 : ครั้งนี้คุณกรอก 900\nกรุณากรอกค่าอาหารอีกครั้งในช่วง 1000-5000 : ครั้งนี้คุณกรอก 9000\nครั้งที่ 1 => ค่าอาหาร: 4500 , รวมค่าอาหาร: 4500 \nครั้งที่ 2 => ค่าอาหาร: 3500 , รวมค่าอาหาร: 8000 \nครั้งที่ 3 => ค่าอาหาร: 1200 , รวมค่าอาหาร: 9200 \nครั้งที่ 4 => ค่าอาหาร: 4500 , รวมค่าอาหาร: 13700 \nรวมค่าอาหาร 3 ครั้ง:9200 ส่งผลให้=>ค่าอาหารครั้งที่ 4 หักส่วนลด 30 % ต้องจ่าย: 3150.0 บาท \nเนื่องจากจ่ายบัตรเครดิต ลดเพิ่ม 5% =>ค่าอาหารครั้งที่ 4 ต้องจ่าย: 2992.5 บาท\n"
    }
   ],
   "source": [
    "#Quiz 10 \n",
    "num17 = 0\n",
    "num18 = 0\n",
    "num19 = 0\n",
    "sa = 0\n",
    "\n",
    "cadit = bool(input(\"มีบัตรเครดิตหรือไม่=> True/False\"))\n",
    "print(\"มีบัตรเครดิตหรือไม่=>\",cadit)\n",
    "\n",
    "for i in range(4):\n",
    " num17 =int(input(\"กรอกค่าอาหาร:\"))\n",
    "\n",
    " while(num17<1000 or num17>5000):\n",
    "  print(\"กรุณากรอกค่าอาหารอีกครั้งในช่วง 1000-5000 : ครั้งนี้คุณกรอก {}\".format(num17))\n",
    "  num17 = 0\n",
    "  num17 =int(input(\"กรุณากรอกค่าอาหารอีกครั้งในช่วง 1000-5000 :\"))\n",
    "\n",
    " if(i==3):\n",
    "   num19 = num18\n",
    "   \n",
    " if (num14>1000 or num14<5000):\n",
    "   num18 = num17+num18\n",
    "   print(\"ครั้งที่ {} => ค่าอาหาร: {} , รวมค่าอาหาร: {} \".format(i+1,num17,num18))\n",
    "   \n",
    "\n",
    "if(num19 > 4000 and num19 < 9000 ):\n",
    " sa = num17-(num17*0.25)   \n",
    " print(\"รวมค่าอาหาร 3 ครั้ง:{} ส่งผลให้=>ค่าอาหารครั้งที่ 4 หักส่วนลด 25 % ต้องจ่าย: {} บาท \".format(num19,sa))\n",
    "elif(num19 > 9000):\n",
    " sa = num17-(num17*0.30) \n",
    " print(\"รวมค่าอาหาร 3 ครั้ง:{} ส่งผลให้=>ค่าอาหารครั้งที่ 4 หักส่วนลด 30 % ต้องจ่าย: {} บาท \".format(num19,sa))\n",
    "else:\n",
    " sa = num17\n",
    " print(\"รวมค่าอาหาร 3 ครั้ง:{} ส่งผลให้ไม่ได้รับส่วนลด=>ค่าอาหารครั้งที่ 4 ต้องจ่าย: {} บาท\".format(num19,num17)) \n",
    "\n",
    "if (cadit==True):\n",
    "  print(\"เนื่องจากจ่ายบัตรเครดิต ลดเพิ่ม 5% =>ค่าอาหารครั้งที่ 4 ต้องจ่าย: {} บาท\".format(sa-(sa*0.05))) "
   ]
  },
  {
   "cell_type": "code",
   "execution_count": 182,
   "metadata": {
    "tags": []
   },
   "outputs": [
    {
     "output_type": "stream",
     "name": "stdout",
     "text": "Say hi NuttaKrit\nsAY HI nUTTAkRIT\n"
    }
   ],
   "source": [
    "#Quiz 11\n",
    "\n",
    "str5 = input(\"กรอกข้อความ:\")\n",
    "print(str5)\n",
    "print(str5.swapcase())\n",
    "\n"
   ]
  },
  {
   "cell_type": "code",
   "execution_count": 169,
   "metadata": {
    "tags": []
   },
   "outputs": [
    {
     "output_type": "stream",
     "name": "stdout",
     "text": "1: akekapob\n2: narinee\n3: busha\n4: shabu\n['busha', 'shabu', 'narinee', 'akekapob']\n"
    }
   ],
   "source": [
    "#Quiz 12\n",
    "\n",
    "str1 = input(\"กรอกข้อความที่ 1:\")\n",
    "str2 = input(\"กรอกข้อความที่ 2:\")\n",
    "str3 = input(\"กรอกข้อความที่ 3:\")\n",
    "str4 = input(\"กรอกข้อความที่ 4:\")\n",
    "allstr = [str1,str2,str3,str4]\n",
    "\n",
    "print(\"1:\",str1)\n",
    "print(\"2:\",str2)\n",
    "print(\"3:\",str3)\n",
    "print(\"4:\",str4)\n",
    "\n",
    "print(sorted(allstr, key=len))\n",
    "\n"
   ]
  },
  {
   "cell_type": "code",
   "execution_count": 221,
   "metadata": {
    "tags": []
   },
   "outputs": [
    {
     "output_type": "stream",
     "name": "stdout",
     "text": "จอดรถ 20 ชั่วโมง 18498464 นาที คิดเป็นเงินทั้งสิ้น 36999928 บาท\n"
    }
   ],
   "source": [
    "#Quiz 13\n",
    "\n",
    "while (hr<0 and hr>61):\n",
    " hr = int(input(\"จอดรถกี่่ชั่วโมง :\"))\n",
    "while (mi<0 and mi>61):\n",
    " mi = int(input(\"จอดรถกี่่นาที :\"))\n",
    "\n",
    "print(\"จอดรถ {} ชั่วโมง {} นาที คิดเป็นเงินทั้งสิ้น {} บาท\".format(hr,mi,(hr*150)+(mi*2)))\n"
   ]
  },
  {
   "cell_type": "code",
   "execution_count": 260,
   "metadata": {
    "tags": []
   },
   "outputs": [
    {
     "output_type": "stream",
     "name": "stdout",
     "text": "จอดรถ 0 ชั่วโมง 456 นาที คิดเป็นเงินทั้งสิ้น 912 บาท\n"
    }
   ],
   "source": [
    "#Quiz 13\n",
    "hr=0\n",
    "mi=0\n",
    "hr = int(input(\"จอดรถกี่่ชั่วโมง :\"))\n",
    "while (hr>=1 and hr<=60):\n",
    " hr = int(input(\"จอดรถกี่่ชั่วโมง :\"))\n",
    "\n",
    "mi = int(input(\"จอดรถกี่่นาที :\"))\n",
    "while (mi>=1 and mi<=60):\n",
    " mi = int(input(\"จอดรถกี่่นาที :\"))\n",
    "\n",
    "\n",
    "print(\"จอดรถ {} ชั่วโมง {} นาที คิดเป็นเงินทั้งสิ้น {} บาท\".format(hr,mi,(hr*150)+(mi*2)))"
   ]
  },
  {
   "cell_type": "code",
   "execution_count": null,
   "metadata": {},
   "outputs": [],
   "source": []
  }
 ]
}